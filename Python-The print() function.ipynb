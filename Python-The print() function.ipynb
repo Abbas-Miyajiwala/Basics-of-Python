{
 "cells": [
  {
   "cell_type": "code",
   "execution_count": null,
   "id": "7ffcd45f",
   "metadata": {},
   "outputs": [],
   "source": [
    "# Let us learn about the next basic concept - the print() function\n",
    "# This is the most common function one will definitely use in their programs \n",
    "# the print() function is a very porweful function which is used to print simple values to complex expressions\n",
    "# withour further a do let us learn the syntax of the print() function\n",
    "\n",
    "# Syntax: print(*objects, sep='', end='\\n', file=sys.stdout, flush=False)\n",
    "\n",
    "# Let's see each item in the syntax in detail\n",
    "# *objects is a parameter which can be any string,variable,expression,function call etc. (*) denotes multiple objects\n",
    "# \"sep\" parameter is used as a separator for the objects. By default it is set to a single space\n",
    "# \"end\" parameter denotes what should be added to the end of the print() statement. By default it is set to '\\n' which denotes new line.\n",
    "# \"file\" parameter must be an object which contains the write(String) method. By default it is set to sys.stdout.\n",
    "# \"flush\" parameter forcibly flushes the stream or it forcibly clears the buffer. By Default it is set to False."
   ]
  },
  {
   "cell_type": "code",
   "execution_count": 1,
   "id": "0d7f123e",
   "metadata": {},
   "outputs": [
    {
     "name": "stdout",
     "output_type": "stream",
     "text": [
      "Hello World!!\n"
     ]
    }
   ],
   "source": [
    "# Demonstrating a simple print() statement\n",
    "print(\"Hello World!!\")"
   ]
  },
  {
   "cell_type": "code",
   "execution_count": 2,
   "id": "9c038b85",
   "metadata": {},
   "outputs": [
    {
     "name": "stdout",
     "output_type": "stream",
     "text": [
      "Hi How are you\n",
      "Hi_How_are_you\n"
     ]
    }
   ],
   "source": [
    "# Demonstrating the use of separators (use of 'sep' parameter)\n",
    "print(\"Hi\",\"How\",\"are\",\"you\") #Default separator\n",
    "\n",
    "print(\"Hi\",\"How\",\"are\",\"you\",sep='_') #Using '_' as the separator between the objects"
   ]
  },
  {
   "cell_type": "code",
   "execution_count": 3,
   "id": "1bfc18c9",
   "metadata": {},
   "outputs": [
    {
     "name": "stdout",
     "output_type": "stream",
     "text": [
      "Hello user!\n",
      "Hello User!\n",
      "\n",
      "Hello\n"
     ]
    }
   ],
   "source": [
    "# Demonstrating the use of end parameter\n",
    "print(\"Hello user!\") #Default value of the end parameter (single new line)\n",
    "\n",
    "print(\"Hello User!\",end='\\n\\n') # It will end with 2 new lines\n",
    "print(\"Hello\")"
   ]
  },
  {
   "cell_type": "code",
   "execution_count": null,
   "id": "4f4b5406",
   "metadata": {},
   "outputs": [],
   "source": [
    "# The other 2 parameters file and flush are not very commonly used, so you can skip them until you are in the beginner level"
   ]
  },
  {
   "cell_type": "code",
   "execution_count": null,
   "id": "7120e536",
   "metadata": {},
   "outputs": [],
   "source": [
    "# Use this cell and practise different variations of print() and try different values for the 'sep' and 'end' parameters\n"
   ]
  }
 ],
 "metadata": {
  "kernelspec": {
   "display_name": "Python 3 (ipykernel)",
   "language": "python",
   "name": "python3"
  },
  "language_info": {
   "codemirror_mode": {
    "name": "ipython",
    "version": 3
   },
   "file_extension": ".py",
   "mimetype": "text/x-python",
   "name": "python",
   "nbconvert_exporter": "python",
   "pygments_lexer": "ipython3",
   "version": "3.11.4"
  }
 },
 "nbformat": 4,
 "nbformat_minor": 5
}
