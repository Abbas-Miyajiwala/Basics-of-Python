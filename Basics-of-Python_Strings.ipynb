{
 "cells": [
  {
   "cell_type": "code",
   "execution_count": null,
   "metadata": {},
   "outputs": [],
   "source": [
    "# String in Python:\n",
    "# A string is a data structure in Python that represents a sequence of characters.\n",
    "# Example:\n",
    "print('Hello World')\n",
    "# Here Hello World is the string to be printed"
   ]
  },
  {
   "cell_type": "code",
   "execution_count": null,
   "metadata": {},
   "outputs": [],
   "source": [
    "# Strings can be enclosed within both single quotes(') and double quotes(\")\n",
    "# Example\n",
    "print('Python')\n",
    "print(\"Python\")\n",
    "\n",
    "# Notice the Output"
   ]
  },
  {
   "cell_type": "code",
   "execution_count": null,
   "metadata": {},
   "outputs": [],
   "source": [
    "# Check this Example:\n",
    "var = input(\"Enter something\")\n",
    "print(var)\n",
    "type(var)\n",
    "\n",
    "# Notice that the type of variable 'var' is string\n",
    "# The input() returns the data/ input in form of strings"
   ]
  },
  {
   "cell_type": "code",
   "execution_count": null,
   "metadata": {},
   "outputs": [],
   "source": [
    "# Let us look at slicing of strings (We can access strings in the same way as we access arrays in other programming languages)\n",
    "str = \"Python Programming\"\n",
    "print(str)\n",
    "print(str[:]) # Prints from start to end\n",
    "print(str[:5]) # Prints from start to specified postion\n",
    "print(str[:5:2]) # Prints from start to specified positon leaving specied amount of characters\n",
    "print(str[6:]) # Prints from specified positon till end\n",
    "print(str[::2]) # Prints from start to end leaving specified amount of characters\n",
    "print(str[4:4]) # Prints empty string\n",
    "print(str[:-1]) # Prints string in reverse order\n",
    "print(str[-1:]) # Prints the last character of the string\n",
    "print(str[::-1]) # Reverses the String"
   ]
  },
  {
   "cell_type": "code",
   "execution_count": null,
   "metadata": {},
   "outputs": [],
   "source": [
    "# Let us have a look at some built-in string functions, they are:\n",
    "#lower()\n",
    "#upper()\n",
    "#split() \n",
    "#strip() lstrip() rstrip # Removes white space from the strings\n",
    "#replace()\n",
    "#find()\n",
    "#expandtabs()\n",
    "#center()\n",
    "#format()\n",
    "\n",
    "# to use these functions, write your statements in the following manner\n",
    "# string_name.function_name([parameters])  # [] brackets indicates that it is optional"
   ]
  },
  {
   "cell_type": "code",
   "execution_count": null,
   "metadata": {},
   "outputs": [],
   "source": [
    "# Let us have a look at each of these functions\n",
    "# lower() demo: Converts the given string into lower case\n",
    "str = 'Python Programming'\n",
    "print(str.lower())"
   ]
  },
  {
   "cell_type": "code",
   "execution_count": null,
   "metadata": {},
   "outputs": [],
   "source": [
    "# upper() demo: Converts the given string into upper case\n",
    "str = 'Python Programming'\n",
    "print(str.upper())"
   ]
  },
  {
   "cell_type": "code",
   "execution_count": null,
   "metadata": {},
   "outputs": [],
   "source": [
    "#split() demo: Splits the given string if a specific character is encountered and converts it to a list\n",
    "str = 'Python Programming'\n",
    "print(str.split(' ')) # It will split the string when a blank space is encountered"
   ]
  },
  {
   "cell_type": "code",
   "execution_count": null,
   "metadata": {},
   "outputs": [],
   "source": [
    "# strip() demo: Strips/removes blank space/whitespace from both the ends of the string\n",
    "str = '      Python Programming       '\n",
    "print(str.strip())\n",
    "\n",
    "# rstrip() demo: Strips/removes blank space/whitespace from the right of the string\n",
    "print(str.rstrip())\n",
    "\n",
    "# lstrip() demo: Strips/removes blank space/whitespace from the left of the string\n",
    "print(str.strip())"
   ]
  },
  {
   "cell_type": "code",
   "execution_count": null,
   "metadata": {},
   "outputs": [],
   "source": [
    "# replace() demo: Replaces the target string with the desried string\n",
    "s1 = 'Hello World!!'\n",
    "print(s1.replace('Hello','Hi')) # Replaces Hello with Hi"
   ]
  },
  {
   "cell_type": "code",
   "execution_count": null,
   "metadata": {},
   "outputs": [],
   "source": [
    "# find() demo: Finds the starting position of the given pattern from a string\n",
    "s1 = 'Hello World'\n",
    "print(s1.find('World')) "
   ]
  },
  {
   "cell_type": "code",
   "execution_count": null,
   "metadata": {},
   "outputs": [],
   "source": [
    "# expandtabs() demo: Expands the '\\t' escape sequence used for tab space by default tabspace is 6\n",
    "s = 'H\\te\\tl\\tl\\to'\n",
    "print(s1.expandtabs(4))"
   ]
  },
  {
   "cell_type": "code",
   "execution_count": null,
   "metadata": {},
   "outputs": [],
   "source": [
    "# center() demo: is used to center align the text it takes pixels as its parameters\n",
    "s2 = 'Python Program'\n",
    "print(s2.center(150)) # Moves the text 150 pixels from the left"
   ]
  },
  {
   "cell_type": "code",
   "execution_count": null,
   "metadata": {},
   "outputs": [],
   "source": [
    "# format() demo: is used for substituion of values\n",
    "legs = 4\n",
    "print(\"My table has {} legs\".format(legs))"
   ]
  },
  {
   "cell_type": "code",
   "execution_count": null,
   "metadata": {},
   "outputs": [],
   "source": [
    "# Use this cell to practise the String slicing and string functions\n"
   ]
  }
 ],
 "metadata": {
  "language_info": {
   "name": "python"
  },
  "orig_nbformat": 4
 },
 "nbformat": 4,
 "nbformat_minor": 2
}
