{
 "cells": [
  {
   "cell_type": "code",
   "execution_count": null,
   "metadata": {},
   "outputs": [],
   "source": [
    "# Let us learn about Looping statements in Python\n",
    "# Looping statements are used to repeat a set of instruction a specified amount of time\n",
    "# These are the looping statements in Python:\n",
    "# 1. while loop\n",
    "# 2. for loop\n",
    "# 3. while - else loop\n",
    "# 4. for - else loop"
   ]
  },
  {
   "cell_type": "code",
   "execution_count": null,
   "metadata": {},
   "outputs": [],
   "source": [
    "# Let us see the while loop: AKA (Entry controlled looping statement)\n",
    "# while loop is a looping statement which checks for the condition at the beginning and executes the block of statements until the condition is false.\n",
    "# Syntax: while condition:\n",
    "            # Statements\n",
    "# It is nessecary to maintain indentation as all the indentation rule are applicable for loops as well\n",
    "# Example: Print 1 to 10 using while loop\n",
    "i = 1\n",
    "while i <= 10:\n",
    "    print(i,end = ' ')"
   ]
  },
  {
   "cell_type": "code",
   "execution_count": null,
   "metadata": {},
   "outputs": [],
   "source": [
    "# Let us see the for loop: \n",
    "# for loop in python is used for sequential traversal i,e. used for printing the elements of a list or string etc.\n",
    "# Syntax: for iterable_var in sequence:\n",
    "                # Statements\n",
    "list = [1,2,3,4,5,6,7,8,9,10]\n",
    "for i in list:\n",
    "    print(i,end=' ')\n"
   ]
  },
  {
   "cell_type": "code",
   "execution_count": null,
   "metadata": {},
   "outputs": [],
   "source": [
    "# Let us learn about while else loop:\n",
    "# while else is similar to if-else where if the while condition becomes false, the else block will be executed. If the loop is breaked or exception occurs then it will be ignored.\n",
    "# Syntax: while condition:\n",
    "            # Statements\n",
    "        # else: \n",
    "            # Statements\n",
    "\n",
    "# Example: \n",
    "i = 1\n",
    "while i <= 10:\n",
    "    print(i,end = ' ')\n",
    "else: \n",
    "    print(\"While loop terminated successfully, you are currently in the else block\")"
   ]
  },
  {
   "cell_type": "code",
   "execution_count": null,
   "metadata": {},
   "outputs": [],
   "source": [
    "# for-else is loop is similar to while-else but the difference is only with while and for\n",
    "# Syntax: for iterable_var in sequence:\n",
    "            # Statements\n",
    "        # else:\n",
    "            # Statements\n",
    "# Example:\n",
    "tokens = [1,2,3,4,5,6,7,8,9,10]\n",
    "for i in tokens:\n",
    "    print(\"Token number:\",i)\n",
    "else:\n",
    "    print(\"Only 10 token were allocated for today please come tomorrow!!\")"
   ]
  },
  {
   "cell_type": "code",
   "execution_count": null,
   "metadata": {},
   "outputs": [],
   "source": [
    "# Use this cell to practise the looping statements\n"
   ]
  }
 ],
 "metadata": {
  "kernelspec": {
   "display_name": "Python 3",
   "language": "python",
   "name": "python3"
  },
  "language_info": {
   "name": "python",
   "version": "3.11.4"
  },
  "orig_nbformat": 4
 },
 "nbformat": 4,
 "nbformat_minor": 2
}
