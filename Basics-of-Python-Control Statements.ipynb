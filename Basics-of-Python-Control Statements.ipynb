{
 "cells": [
  {
   "cell_type": "code",
   "execution_count": null,
   "metadata": {},
   "outputs": [],
   "source": [
    "# Let us learn about the control statements in Python:\n",
    "# Those are : 'if', 'if-else', 'if-elif-ladder'\n",
    "# Let us see about each of them in detail"
   ]
  },
  {
   "cell_type": "code",
   "execution_count": null,
   "metadata": {},
   "outputs": [],
   "source": [
    "# The 'if' statement: -->if the given condition is true do some task\n",
    "# Syntax: if (condition):\n",
    "              #Statements\n",
    "# Note that ':' is mandatory after the condition part as it marks the beginning of the if block\n",
    "# Also identation is nessecary for the statement in that has to be included in the if block.\n",
    "# The condition may or may not be included in the brackets (Brackets are not mandatory)\n",
    "# These rules are applicable to all the control structure\n",
    "# Example:\n",
    "num = int(input(\"Enter a number: \"))\n",
    "if num is int:\n",
    "    print(num,\"is an integer\")"
   ]
  },
  {
   "cell_type": "code",
   "execution_count": null,
   "metadata": {},
   "outputs": [],
   "source": [
    "# The 'if-else' statement: --> If the given condition is true, do some task, else, do some another task\n",
    "# Example:\n",
    "age = int(input(\"Enter your age: \"))\n",
    "if age > 18:\n",
    "    print(\"You are eligible to vote!!\")\n",
    "else:\n",
    "    print(\"You are not eligible to vote!!\")"
   ]
  },
  {
   "cell_type": "code",
   "execution_count": null,
   "metadata": {},
   "outputs": [],
   "source": [
    "# The 'if-elif-ladder': --> If the given condition is true, do some task, else if another condtion is true do that task, else do something else.\n",
    "# Example: \n",
    "n1 = 10\n",
    "n2 = 20\n",
    "n3 = 30\n",
    "if n1 > n2 and n1 > n3:\n",
    "    print(n1,\"is the largest!!\")\n",
    "elif n2 > n3:\n",
    "    print(n2,\"is the largest!!\")\n",
    "else: \n",
    "    print(n3,\"is the largest!!\")"
   ]
  },
  {
   "cell_type": "code",
   "execution_count": null,
   "metadata": {},
   "outputs": [],
   "source": [
    "# Use this cell to practise the Control Statements\n"
   ]
  }
 ],
 "metadata": {
  "language_info": {
   "name": "python"
  },
  "orig_nbformat": 4
 },
 "nbformat": 4,
 "nbformat_minor": 2
}
