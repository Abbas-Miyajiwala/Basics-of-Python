{
 "cells": [
  {
   "cell_type": "code",
   "execution_count": null,
   "metadata": {},
   "outputs": [],
   "source": [
    "# Lists in Python is a datastructure which is used to store a collection of heterogenous data\n",
    "# It is similar to an array used in other programming languages\n",
    "# Syntax: list_name = [items]\n",
    "# Example:\n",
    "list1 = [1,2,3,4,5]\n",
    "print(list1) "
   ]
  },
  {
   "cell_type": "code",
   "execution_count": null,
   "metadata": {},
   "outputs": [],
   "source": [
    "# Lists can also be sliced as we slice strings\n",
    "# Refer to the string notebook for more on slicing"
   ]
  },
  {
   "cell_type": "code",
   "execution_count": null,
   "metadata": {},
   "outputs": [],
   "source": [
    "# List Methods/Functions:\n",
    "# len()\n",
    "# append()\n",
    "# extend()\n",
    "# insert()\n",
    "# remove()\n",
    "# pop()\n",
    "# clear()\n",
    "# index()\n",
    "# count()\n",
    "# sort()\n",
    "# reverse()\n",
    "# copy()"
   ]
  },
  {
   "cell_type": "code",
   "execution_count": null,
   "metadata": {},
   "outputs": [],
   "source": [
    "# len() is to used to get the length of the list\n",
    "# Syntax: len(list_name)\n",
    "list1 = [1,2,3,4,5]\n",
    "print(len(list1))"
   ]
  },
  {
   "cell_type": "code",
   "execution_count": null,
   "metadata": {},
   "outputs": [],
   "source": [
    "# append() is used to add an element at the end of the array\n",
    "# Syntax: list_name.append('element')\n",
    "list1 = [1,2,3,4,5]\n",
    "list1.append(6)\n",
    "print(list1)"
   ]
  },
  {
   "cell_type": "code",
   "execution_count": null,
   "metadata": {},
   "outputs": [],
   "source": [
    "# extend() is the function used to concatenate a list to another/ add elements of 1 list to another\n",
    "# Syntax: list_name_1.extend(list_name_2)\n",
    "list1 = [1,2,3,4,5]\n",
    "list2 = [6,7,8,9,10]\n",
    "list1.extend(list2)\n",
    "print(list1)"
   ]
  },
  {
   "cell_type": "code",
   "execution_count": null,
   "metadata": {},
   "outputs": [],
   "source": [
    "# insert() is a function which takes 2 arguments, position and the element tto be added\n",
    "# Syntax: list_name.insert(position,value)\n",
    "list1.insert(2,30)\n",
    "print(list1)"
   ]
  },
  {
   "cell_type": "code",
   "execution_count": null,
   "metadata": {},
   "outputs": [],
   "source": [
    "# remove() is a function to remove a particular element from the list \n",
    "# Syntax: list_name.remove(element)\n",
    "list1.remove(30)\n",
    "print(list1)"
   ]
  },
  {
   "cell_type": "code",
   "execution_count": null,
   "metadata": {},
   "outputs": [],
   "source": [
    "# pop() is a function to remove element from the last of the list \n",
    "# Syntax: deleted_element = list_name.pop()\n",
    "deleted =list1.pop()\n",
    "print(deleted,'was popped from the end of the list')"
   ]
  },
  {
   "cell_type": "code",
   "execution_count": null,
   "metadata": {},
   "outputs": [],
   "source": [
    "# clear() is a function to clear the elements from the list but doesn't delete the list\n",
    "# Syntax: list_name.clear()\n",
    "print(list2)\n",
    "list2.clear()\n",
    "print(list2)"
   ]
  },
  {
   "cell_type": "code",
   "execution_count": null,
   "metadata": {},
   "outputs": [],
   "source": [
    "# index() is the function used to fetch the position of an element in the array\n",
    "# Syntax: list_name.index(element)\n",
    "print(list1.index(2))"
   ]
  },
  {
   "cell_type": "code",
   "execution_count": null,
   "metadata": {},
   "outputs": [],
   "source": [
    "# count() is a function used to fetch the frequency of an element in an array\n",
    "# Syntax: list_name.count(element)\n",
    "print(list1.count(2))"
   ]
  },
  {
   "cell_type": "code",
   "execution_count": null,
   "metadata": {},
   "outputs": [],
   "source": [
    "# sort() is a function used for sorting the list in ascneding order\n",
    "# Syntax: list_name.sort()\n",
    "unsorted = [23,334,25,46,574]\n",
    "print(unsorted)\n",
    "unsorted.sort()\n",
    "print(unsorted)"
   ]
  },
  {
   "cell_type": "code",
   "execution_count": null,
   "metadata": {},
   "outputs": [],
   "source": [
    "# reverse() is used to reverse the list \n",
    "# Syntax: list_name.reverse()\n",
    "list1.reverse()\n",
    "print(list1)"
   ]
  },
  {
   "cell_type": "code",
   "execution_count": null,
   "metadata": {},
   "outputs": [],
   "source": [
    "# copy() is a function used to copy one list to another\n",
    "# Syntax: list_name.copy(list_name_1)\n",
    "list1 = [1,2,3,4,5]\n",
    "list2 = list1.copy()\n",
    "print(list2)"
   ]
  },
  {
   "cell_type": "code",
   "execution_count": null,
   "metadata": {},
   "outputs": [],
   "source": [
    "# Use this cell to practise lists and list methods\n"
   ]
  }
 ],
 "metadata": {
  "kernelspec": {
   "display_name": "Python 3",
   "language": "python",
   "name": "python3"
  },
  "language_info": {
   "codemirror_mode": {
    "name": "ipython",
    "version": 3
   },
   "file_extension": ".py",
   "mimetype": "text/x-python",
   "name": "python",
   "nbconvert_exporter": "python",
   "pygments_lexer": "ipython3",
   "version": "3.11.4"
  },
  "orig_nbformat": 4
 },
 "nbformat": 4,
 "nbformat_minor": 2
}
