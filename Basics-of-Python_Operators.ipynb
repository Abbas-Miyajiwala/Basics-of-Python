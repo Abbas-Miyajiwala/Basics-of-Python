{
 "cells": [
  {
   "cell_type": "code",
   "execution_count": 1,
   "id": "b17f6e53",
   "metadata": {},
   "outputs": [],
   "source": [
    "# let us talk about operators in Python:\n",
    "# Operator are the symbols which are written betweeen 2 or more operands to perform some operatorion.\n",
    "# An expression is known as the combination of operators and operands\n",
    "# Types of Operators in Python: \n",
    "# 1. Arithmetic Operators\n",
    "# 2. Assignment Operators\n",
    "# 3. Comparison Operators\n",
    "# 4. Logical Operators\n",
    "# 5. Identity Operators\n",
    "# 6. Membership Operators\n",
    "# 7. Bitwise Operators"
   ]
  },
  {
   "cell_type": "code",
   "execution_count": 2,
   "id": "5f3c2796",
   "metadata": {},
   "outputs": [
    {
     "name": "stdout",
     "output_type": "stream",
     "text": [
      "20\n",
      "0\n",
      "100\n",
      "1.0\n",
      "0\n",
      "1000\n"
     ]
    }
   ],
   "source": [
    "# Arithmetic operators are used for performing arithmetic operations such addition, subtraction, etc.\n",
    "\n",
    "print(10+10) # Use of '+' operator\n",
    "print(10-10) # Use of '-' operator\n",
    "print(10*10) # Use of '*' operator\n",
    "print(10/10) # Use of '/' operator\n",
    "print(10%10) # Use of '%' operator -> used for finding the remainder value\n",
    "print(10**3) # Use of '**' operator -> used for finding exponential values"
   ]
  },
  {
   "cell_type": "code",
   "execution_count": 3,
   "id": "fb8dd276",
   "metadata": {},
   "outputs": [
    {
     "name": "stdout",
     "output_type": "stream",
     "text": [
      "a: 10\n",
      "b: 10\n"
     ]
    }
   ],
   "source": [
    "# Assinment operator are used for assigning a specific value or assigning a value of a variable to another\n",
    "# '=' is the assignment operator\n",
    "\n",
    "a = 10\n",
    "b = a\n",
    "print(\"a:\",a)\n",
    "print(\"b:\",b)"
   ]
  },
  {
   "cell_type": "code",
   "execution_count": 4,
   "id": "a3ab742d",
   "metadata": {},
   "outputs": [
    {
     "name": "stdout",
     "output_type": "stream",
     "text": [
      "True\n",
      "False\n",
      "True\n",
      "False\n",
      "False\n",
      "True\n"
     ]
    }
   ],
   "source": [
    "# Comparison Operators are used for comparison of values of different variables or constants\n",
    "\n",
    "a = 10\n",
    "b = 8\n",
    "print(a > b) # Use of '>' operator -> Greater than operator\n",
    "print(a < b) # Use of '<' operator -> Less than operator\n",
    "print(a >= b) # Use of '>=' operator -> Greater than or equal to operator\n",
    "print(a <= b) # Use of '<=' operator -> Greater than or equal to operator\n",
    "print(a == b) # Use of '==' operator -> Used for checking equality -> Checks if a is equal to b?\n",
    "print(a != b) # Use of '!=' operator -> Used for Checking inequality -> Checks if a is not equal to b?"
   ]
  },
  {
   "cell_type": "code",
   "execution_count": 5,
   "id": "497c5c87",
   "metadata": {},
   "outputs": [
    {
     "name": "stdout",
     "output_type": "stream",
     "text": [
      "True\n",
      "False\n",
      "True\n"
     ]
    }
   ],
   "source": [
    "# Logical Operators are used to combine conditional statements\n",
    "\n",
    "print(True and True) # Use of 'and' operator -> Results in True only if both the condition are True\n",
    "print(False or False) # Use of 'or' operator -> Results in False only of both the conditions are False\n",
    "print(not False) # Use of 'not' operator -> Results in the negation of a statement Ex. not False -> True"
   ]
  },
  {
   "cell_type": "code",
   "execution_count": 6,
   "id": "aa61b0cd",
   "metadata": {},
   "outputs": [
    {
     "name": "stdout",
     "output_type": "stream",
     "text": [
      "Both numbers are different!!\n"
     ]
    }
   ],
   "source": [
    "# Identity Operators are used to compare 2 objects for their equality\n",
    "# 'is' and 'is not' are the identity operators\n",
    "\n",
    "a = 10\n",
    "b = 12\n",
    "if a is b:\n",
    "    print(\"Both numbers are the equal\")\n",
    "else: \n",
    "    print(\"Both numbers are different!!\")"
   ]
  },
  {
   "cell_type": "code",
   "execution_count": 7,
   "id": "e026e18a",
   "metadata": {},
   "outputs": [
    {
     "name": "stdout",
     "output_type": "stream",
     "text": [
      "Number Equality: False\n"
     ]
    }
   ],
   "source": [
    "c = 15\n",
    "d = 15\n",
    "print(\"Number Equality:\",c is not d) # Check the use of operators here"
   ]
  },
  {
   "cell_type": "code",
   "execution_count": 8,
   "id": "0a9d022a",
   "metadata": {},
   "outputs": [
    {
     "name": "stdout",
     "output_type": "stream",
     "text": [
      "5 is present in the list\n"
     ]
    }
   ],
   "source": [
    "# Membership operators are used to check if the sequence is present in the object or not\n",
    "# 'in' and 'not in' are the membership operators\n",
    "\n",
    "numbers = [1,2,3,4,5]\n",
    "if 5 in numbers:\n",
    "    print(\"5 is present in the list\")\n",
    "else:\n",
    "    print(\"5 is not present in the list\")"
   ]
  },
  {
   "cell_type": "code",
   "execution_count": 9,
   "id": "c3525348",
   "metadata": {},
   "outputs": [
    {
     "name": "stdout",
     "output_type": "stream",
     "text": [
      "Number presence: False\n"
     ]
    }
   ],
   "source": [
    "print(\"Number presence:\",6 not in [1,2,3,4,5,6]) # Check the use of operators here"
   ]
  },
  {
   "cell_type": "code",
   "execution_count": 10,
   "id": "5444f5a6",
   "metadata": {},
   "outputs": [],
   "source": [
    "# Bitwise operators are not used frequently at basic level so it will not be covered\n",
    "# Still if you want to know what are bitwise operators please feel free to search it online"
   ]
  }
 ],
 "metadata": {
  "kernelspec": {
   "display_name": "Python 3 (ipykernel)",
   "language": "python",
   "name": "python3"
  },
  "language_info": {
   "codemirror_mode": {
    "name": "ipython",
    "version": 3
   },
   "file_extension": ".py",
   "mimetype": "text/x-python",
   "name": "python",
   "nbconvert_exporter": "python",
   "pygments_lexer": "ipython3",
   "version": "3.10.9"
  }
 },
 "nbformat": 4,
 "nbformat_minor": 5
}
