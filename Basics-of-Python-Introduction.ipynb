{
 "cells": [
  {
   "cell_type": "code",
   "execution_count": 1,
   "id": "45f70f10",
   "metadata": {},
   "outputs": [],
   "source": [
    "# Basics of Python\n",
    "# Fouder of Python was 'Guido van Rossum'. Python was developed in the years 1985-1990.\n",
    "# While he was developing the language he was watching a series 'Monti Python Flying Circus' that's how it was named \"Python\""
   ]
  },
  {
   "cell_type": "code",
   "execution_count": 2,
   "id": "e33e3adb",
   "metadata": {},
   "outputs": [],
   "source": [
    "# Other programming languages such as C, C++ is used for software development in a specific domain.\n",
    "# Whereas, Python doesn't have a specific domain, it is used in countless domain in today's modern world.\n",
    "# Initially it was developed for data science, as it has many libraries related to it."
   ]
  },
  {
   "cell_type": "code",
   "execution_count": 3,
   "id": "3dab9359",
   "metadata": {},
   "outputs": [],
   "source": [
    "# Python is developed using ABC, Modula-3, C, C++ Algol-68, SmallTalk and Unix Shell.\n",
    "# .ipynb -> interactive python notebook, extension for jupyter notebook, Google COLAB notebooks."
   ]
  },
  {
   "cell_type": "code",
   "execution_count": 4,
   "id": "ada71716",
   "metadata": {},
   "outputs": [
    {
     "name": "stdout",
     "output_type": "stream",
     "text": [
      "10\n"
     ]
    }
   ],
   "source": [
    "# Let us Start with the basics of Python\n",
    "# Lets start with a basic concept- Variable Declaration\n",
    "# Syntax for Variable declaration: variable_name = value\n",
    "# Consider this Example:\n",
    "\n",
    "a = 10\n",
    "\n",
    "# To print the value of 'a' we can either just type-->\n",
    "\n",
    "a\n",
    "\n",
    "# Or use the print function like this: \n",
    "\n",
    "print(a)\n",
    "\n",
    "# To run a cell in Jupyter Notebook you can either use the run button in the menu bar (or) \n",
    "# Use the shortcut Ctrl+Enter / Shift+Enter\n",
    "\n",
    "# Use the (#)Hash Symbol for writing Comments in python, When you are debugging your code commenting, can come in handy.\n",
    "# (#)Hash is used for single line comments\n",
    "# There is no specified character for mutli-line comment."
   ]
  },
  {
   "cell_type": "code",
   "execution_count": 5,
   "id": "03b0e5dc",
   "metadata": {},
   "outputs": [],
   "source": [
    "# You can use this cell for practising variable declaration and play around with the variables\n",
    "# OR you can edit above cells as per your liking and for ease of use"
   ]
  }
 ],
 "metadata": {
  "kernelspec": {
   "display_name": "Python 3 (ipykernel)",
   "language": "python",
   "name": "python3"
  },
  "language_info": {
   "codemirror_mode": {
    "name": "ipython",
    "version": 3
   },
   "file_extension": ".py",
   "mimetype": "text/x-python",
   "name": "python",
   "nbconvert_exporter": "python",
   "pygments_lexer": "ipython3",
   "version": "3.10.9"
  }
 },
 "nbformat": 4,
 "nbformat_minor": 5
}
