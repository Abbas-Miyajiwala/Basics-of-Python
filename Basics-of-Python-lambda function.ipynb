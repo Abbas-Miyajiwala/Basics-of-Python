{
 "cells": [
  {
   "cell_type": "code",
   "execution_count": 4,
   "id": "9fe603f1",
   "metadata": {},
   "outputs": [
    {
     "name": "stdout",
     "output_type": "stream",
     "text": [
      "Enter 2 numbers: 10 20\n",
      "Number 1: 10 Number 2: 20\n"
     ]
    }
   ],
   "source": [
    "# Let us learn about lambda functions which are also known as anonymous function as it doesn't have a function name\n",
    "# Before starting with lambda functions we need to know the map() function as they both go hand in hand.\n",
    "\n",
    "# map() function map the iterable values to a fnction object\n",
    "# Syntax: map(fun,iter)\n",
    "# Where fun -> is the function object to which data has to be mapped\n",
    "#       iter -> is the iterable whose value has to be mapped to the function object\n",
    "\n",
    "# Let us see an example\n",
    "\n",
    "num1, num2 = map(int,input(\"Enter 2 numbers: \").split())\n",
    "print(\"Number 1:\",num1,\"Number 2:\",num2)\n",
    "\n",
    "# Here each input value is mapped as an integer to each variable "
   ]
  },
  {
   "cell_type": "code",
   "execution_count": null,
   "id": "d13549a1",
   "metadata": {},
   "outputs": [],
   "source": [
    "# lambda functions are used when we want to perform simple arithmetic operations or one line instructions.\n",
    "# Syntax :  fun_object = lambda [arguments] : operation\n",
    "\n",
    "# Let us see an example:\n",
    "\n",
    "n = 10\n",
    "\n",
    "\n",
    "# run this code and see what Happens"
   ]
  },
  {
   "cell_type": "code",
   "execution_count": 5,
   "id": "acbec9ed",
   "metadata": {},
   "outputs": [
    {
     "name": "stdout",
     "output_type": "stream",
     "text": [
      "<map object at 0x0000029663C0E710>\n"
     ]
    }
   ],
   "source": [
    "# As we saw that a single value is not taken as an iterable, we need to take multiple values.\n",
    "# Conisder this example: \n",
    "n = [1,2,3,4]\n",
    "result = map(lambda x : x + x,n)\n",
    "print(result)\n",
    "\n",
    "# Run this cell and see the results\n",
    "\n",
    "# The output will be a map object to see the proper output we need to convert it to a data structure such as a list\n",
    "\n",
    "n = [1,2,3,4]\n",
    "result = map(lambda x : x + x,n)\n",
    "print(list(result))"
   ]
  },
  {
   "cell_type": "code",
   "execution_count": 8,
   "id": "232ff2a0",
   "metadata": {},
   "outputs": [
    {
     "name": "stdout",
     "output_type": "stream",
     "text": [
      "(<function <lambda> at 0x0000029663F9ECB0>, [1, 2, 3, 4])\n"
     ]
    }
   ],
   "source": [
    "# You might have an question, why do we need the map function?\n",
    "# Check it out yourself:\n",
    "\n",
    "n = [1,2,3,4]\n",
    "result = lambda x : x * 2,n\n",
    "print(result)\n",
    "\n",
    "# AS you can see that it returns a lambda function object and also the calculation is not done \n",
    "# That is why map function is nessecary as it maps each value with the fun_object so that we cna get a proper result"
   ]
  },
  {
   "cell_type": "code",
   "execution_count": null,
   "id": "3d12dc7c",
   "metadata": {},
   "outputs": [],
   "source": [
    "num1 = (1,2,3)\n",
    "num2 = (4,5,6)\n",
    "results = map(lambda: x,y : x+y,num1,num2)\n",
    "prin"
   ]
  }
 ],
 "metadata": {
  "kernelspec": {
   "display_name": "Python 3 (ipykernel)",
   "language": "python",
   "name": "python3"
  },
  "language_info": {
   "codemirror_mode": {
    "name": "ipython",
    "version": 3
   },
   "file_extension": ".py",
   "mimetype": "text/x-python",
   "name": "python",
   "nbconvert_exporter": "python",
   "pygments_lexer": "ipython3",
   "version": "3.10.9"
  }
 },
 "nbformat": 4,
 "nbformat_minor": 5
}
