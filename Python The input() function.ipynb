{
 "cells": [
  {
   "cell_type": "code",
   "execution_count": null,
   "id": "a56b96c1",
   "metadata": {},
   "outputs": [],
   "source": [
    "# Let us the learn the next basic yet important thing in python that is the input() function\n",
    "# input() is a built in function which is used to take user input\n",
    "# Syntax: variable_name = input(prompt) -> as imput function returns a value it is needed to be stored in a variable.\n",
    "\n",
    "# Example:\n",
    "\n",
    "name = input(\"Please enter your name\")\n",
    "print(name)\n",
    "\n",
    "# Try this code yourself and witness the power of the input function"
   ]
  },
  {
   "cell_type": "code",
   "execution_count": null,
   "id": "2abda9ba",
   "metadata": {},
   "outputs": [],
   "source": [
    "number = input(\"Enter a number: \")\n",
    "number\n",
    "type(number)"
   ]
  },
  {
   "cell_type": "code",
   "execution_count": null,
   "id": "81bdf2c8",
   "metadata": {},
   "outputs": [],
   "source": [
    "# Notice that when you run the code and input some value it is stored by default as a string.\n",
    "# type(variable_name) is a function used to print the datatype of the function"
   ]
  },
  {
   "cell_type": "code",
   "execution_count": null,
   "id": "d175606d",
   "metadata": {},
   "outputs": [],
   "source": [
    "# To get the correct input we can nest functions\n",
    "# For example if want an integer input, then we can write the input() functions as follows\n",
    "\n",
    "number = int(input(\"Enter a number: \"))\n",
    "number\n",
    "type(number)\n",
    "\n",
    "# Execute the above code and see the difference"
   ]
  },
  {
   "cell_type": "code",
   "execution_count": null,
   "id": "042bfce3",
   "metadata": {},
   "outputs": [],
   "source": [
    "num1,num2 = int(input(\"Enter 2 numbers: \"))\n",
    "print(num1,num2)\n",
    "\n",
    "# Execute this cell and see what happens"
   ]
  },
  {
   "cell_type": "code",
   "execution_count": null,
   "id": "df2fe1ec",
   "metadata": {},
   "outputs": [],
   "source": [
    "# The input() function cannot take multiple inputs at the same time \n",
    "# to solve that issue Python has an inbuilt function known as split()\n",
    "# It helps the input statement to take multiple inputs separated by space\n",
    "# Syntax: input(prompt).split()\n",
    "\n",
    "# Try this code: \n",
    "\n",
    "num1, num2 = int(input(\"Enter 2 numbers: \")).split()\n",
    "print(\"Number 1 is: \"num1,\"\\n\",\"Number 2 is: \",num2)"
   ]
  },
  {
   "cell_type": "code",
   "execution_count": null,
   "id": "f362a6d2",
   "metadata": {},
   "outputs": [],
   "source": [
    "# Use this cell to practise the inp"
   ]
  }
 ],
 "metadata": {
  "kernelspec": {
   "display_name": "Python 3 (ipykernel)",
   "language": "python",
   "name": "python3"
  },
  "language_info": {
   "codemirror_mode": {
    "name": "ipython",
    "version": 3
   },
   "file_extension": ".py",
   "mimetype": "text/x-python",
   "name": "python",
   "nbconvert_exporter": "python",
   "pygments_lexer": "ipython3",
   "version": "3.10.9"
  }
 },
 "nbformat": 4,
 "nbformat_minor": 5
}
